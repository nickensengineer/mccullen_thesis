{
 "cells": [
  {
   "cell_type": "code",
   "execution_count": 7,
   "metadata": {},
   "outputs": [
    {
     "name": "stdout",
     "output_type": "stream",
     "text": [
      "/Users/nickens/development/mccullen_thesis_gcp/February\n"
     ]
    }
   ],
   "source": [
    "import os\n",
    "print os.getcwd()"
   ]
  },
  {
   "cell_type": "code",
   "execution_count": 11,
   "metadata": {},
   "outputs": [
    {
     "ename": "SyntaxError",
     "evalue": "unexpected character after line continuation character (<ipython-input-11-4e6f5898d785>, line 12)",
     "output_type": "error",
     "traceback": [
      "\u001b[0;36m  File \u001b[0;32m\"<ipython-input-11-4e6f5898d785>\"\u001b[0;36m, line \u001b[0;32m12\u001b[0m\n\u001b[0;31m    import \\\\Users\\\\nickens\\\\development\\mccullen_thesis_gcp\\\\February\\\\acs_regionalization.py as ACS\u001b[0m\n\u001b[0m                                                                                                     ^\u001b[0m\n\u001b[0;31mSyntaxError\u001b[0m\u001b[0;31m:\u001b[0m unexpected character after line continuation character\n"
     ]
    }
   ],
   "source": [
    "%matplotlib inline\n",
    "import pysal as ps\n",
    "import numpy as np\n",
    "import pandas as pd\n",
    "import descartes\n",
    "import geopandas as gp\n",
    "import shapely\n",
    "import copy\n",
    "import random\n",
    "import os\n",
    "import sys\n",
    "import r'acs_regionalization as ACS\n",
    "import matplotlib.pyplot as plt\n",
    "from pylab import rcParams\n",
    "rcParams['figure.figsize'] = 40,40  #set  the   default   map   size  \n",
    "rcParams['patch.linewidth'] = 1  #set default polygon line width"
   ]
  },
  {
   "cell_type": "code",
   "execution_count": 3,
   "metadata": {
    "scrolled": true
   },
   "outputs": [
    {
     "data": {
      "text/plain": [
       "[]"
      ]
     },
     "execution_count": 3,
     "metadata": {},
     "output_type": "execute_result"
    },
    {
     "data": {
      "image/png": "[encoded data removed]",
      "text/plain": [
       "<Figure size 432x288 with 1 Axes>"
      ]
     },
     "metadata": {
      "needs_background": "light"
     },
     "output_type": "display_data"
    }
   ],
   "source": [
    "# read in the Austin shapefile and plot it\n",
    "shp_map = gp.read_file('LAC_Census_Tracts.shp')\n",
    "shp_map['constant'] = 1\n",
    "p = shp_map.plot('constant', alpha=0.5, cmap='gist_heat', edgecolor=\"k\")\n",
    "p.axis('off')\n",
    "p.plot()"
   ]
  },
  {
   "cell_type": "code",
   "execution_count": 4,
   "metadata": {},
   "outputs": [
    {
     "name": "stdout",
     "output_type": "stream",
     "text": [
      "2346\n"
     ]
    }
   ],
   "source": [
    "# read spatial data into python and run some diagnostics\n",
    "w = ps.rook_from_shapefile('LAC_Census_Tracts.shp', idVariable='GEOID')\n",
    "print(w.n) # number of census tracts"
   ]
  },
  {
   "cell_type": "code",
   "execution_count": 5,
   "metadata": {},
   "outputs": [
    {
     "data": {
      "text/plain": [
       "Text(0,0.5,'number of tracts')"
      ]
     },
     "execution_count": 5,
     "metadata": {},
     "output_type": "execute_result"
    },
    {
     "data": {
      "image/png": "[encoded data removed]",
      "text/plain": [
       "<Figure size 720x720 with 1 Axes>"
      ]
     },
     "metadata": {
      "needs_background": "light"
     },
     "output_type": "display_data"
    }
   ],
   "source": [
    "# summary of the connectivity structure of the Los Angeles County census tracts\n",
    "w_hist_data = np.array(w.histogram)\n",
    "fig, ax = plt.subplots(figsize=(10,10))\n",
    "ax.bar(w_hist_data[:,0], w_hist_data[:,1], align='center', width=1)\n",
    "ax.set_xlabel('number of neighbors')\n",
    "ax.set_ylabel('number of tracts')"
   ]
  },
  {
   "cell_type": "code",
   "execution_count": null,
   "metadata": {},
   "outputs": [],
   "source": [
    "# read in list of census tracts to exclude\n",
    "# using arcmap to view zoning data overlaid on census tracts symbolized by total population estimate per tract\n",
    "#exclude = open('Exclude_Test.csv')\n",
    "#exclude = exclude.readline()\n",
    "#exclude = exclude.replace('g','')\n",
    "#exclude = exclude.split(',')\n",
    "#print exclude"
   ]
  },
  {
   "cell_type": "code",
   "execution_count": 6,
   "metadata": {},
   "outputs": [],
   "source": [
    "# read in the ACS estimates and standard errors\n",
    "population = pd.read_csv('ACS_Full_Table_Copy1.csv', index_col=0)\n",
    "pop2 = pd.read_csv('Total_Population.csv', index_col=0)\n",
    "est_perc = pd.read_csv('prop_est_vet_perc.csv', index_col=0)\n",
    "# csv file of estimated total veteran population by census tract.\n",
    "est_vet_pop = pd.read_csv('proportion1.csv', index_col=0)\n",
    "# standard error csv by census tract.\n",
    "stderr_pop = pd.read_csv('std_err_prop.csv', index_col=0)\n",
    "# margin of error calculation \n",
    "# moe_pop = stderr_pop * 1.65  # changed from 1.645 to 1.65 to reduce decimal places in analysis\n",
    "moe_prop = stderr_pop * 1.65  \n",
    "# read the census tract ids into a python object \n",
    "pop_tract_ids = open('tract_ids.csv')\n",
    "# split the csv into a python list object\n",
    "pop_tract_ids = pop_tract_ids.readline().split(',')\n",
    "# calculate the estimate ratio, standard error ratio, and margin of error for each census tract as a python object\n",
    "est_ratio = pd.read_csv('est_ratio5.csv', index_col=0) \n",
    "std_ratio = pd.read_csv('std_err_prop.csv', index_col=0)\n",
    "# print (est_ratio.dtypes)\n",
    "moe_ratio = std_ratio * 1.65\n",
    "\n",
    "# population_ratio.csv is a CSV file with the census tract id and the above ratio names as columns.\n",
    "ratio_names = open('population_ratio.csv') # need to create this file tonight\n",
    "ratio_names = ratio_names.readline().split(',') "
   ]
  },
  {
   "cell_type": "code",
   "execution_count": 7,
   "metadata": {},
   "outputs": [
    {
     "name": "stdout",
     "output_type": "stream",
     "text": [
      "['vet_per_tract', 'civ_per_tract']\n",
      "Index([u'vet_est', u'civ_est'], dtype='object')\n",
      "the numerator of vet_per_tract is vet_moe, and the denominator is total_pop_est\n",
      "the numerator of civ_per_tract is civ_moe, and the denominator is total_pop_est\n",
      "[[    1     1]\n",
      " [    1     1]\n",
      " [    1     1]\n",
      " ...\n",
      " [  855  8859]\n",
      " [  385  9080]\n",
      " [    1 10223]]\n",
      "[[    1     1     1     1]\n",
      " [    1     1     1     1]\n",
      " [    1     1     1     1]\n",
      " ...\n",
      " [ 9080  9465   385  9465]\n",
      " [ 8859  9714   855  9714]\n",
      " [10223 10223     1 10223]]\n"
     ]
    }
   ],
   "source": [
    "# ratio and population data is organized as numerator-denominator pairs\n",
    "print ratio_names\n",
    "print est_ratio.columns  # names of the numerators and denominators\n",
    "print 'the numerator of %s is %s, and the denominator is %s'%(ratio_names[0], population.columns[3], population.columns[6])\n",
    "print 'the numerator of %s is %s, and the denominator is %s'%(ratio_names[1], population.columns[1], population.columns[6])\n",
    "\n",
    "print (est_ratio.values)\n",
    "print (est_vet_pop.values)\n",
    "#print (stderr_pop.values)"
   ]
  },
  {
   "cell_type": "code",
   "execution_count": null,
   "metadata": {
    "scrolled": false
   },
   "outputs": [
    {
     "name": "stderr",
     "output_type": "stream",
     "text": [
      "utils.py:133: RuntimeWarning: divide by zero encountered in divide\n",
      "  cv = sde / est\n"
     ]
    }
   ],
   "source": [
    "# depending on what the machine size of the Virtual Machine, the algorthim can take several minutes to complete.\n",
    "# i am currently using a first generation Google Cloud Platform Compute Engine Virtual Machine size n1-standard-4.\n",
    "# this machine has 4 virtual CPU cores and 8gb of RAM.\n",
    "\n",
    "# open the shapefile of the census tracts.\n",
    "shp = ps.open('LAC_Census_Tracts.shp')\n",
    "# using a random seed in python generates a random number and using the same seed value ensures that the same results are generated.\n",
    "# if a random seed is not used, I cant reliably check that the same result comes from each execution of the code, \n",
    "# since the code uses pseudorandom numbers in the ACS Regionalization algorythm.\n",
    "              \n",
    "random.seed(745)     # to ensure we get the same solution each time\n",
    "np.random.seed(745)  # to ensure we get the same solution each time\n",
    "results = ACS.ACS_Regions(w=w,\\\n",
    "                          target_est_prop=est_vet_pop.values,\\\n",
    "                          target_moe_prop=moe_prop.values,\\\n",
    "                          target_est_ratio=est_ratio.values,\\\n",
    "                          target_moe_ratio=moe_ratio.values,\\\n",
    "                          count_est=population.values,\\\n",
    "                          target_th_all=0.05,\\\n",
    "                          compactness=shp)\n",
    "print 'regionalization finished'"
   ]
  },
  {
   "cell_type": "code",
   "execution_count": null,
   "metadata": {},
   "outputs": [],
   "source": [
    "# some basic diagnostics on the solution\n",
    "print 'number of regions:', len(results.regions)\n",
    "print 'total time (seconds):', results.time['total']"
   ]
  },
  {
   "cell_type": "code",
   "execution_count": null,
   "metadata": {},
   "outputs": [],
   "source": [
    "# This is a python function to create the side by side plots of LA County\n",
    "\n",
    "# We'll make a few side-by-side plots. This code wraps the setup into a function. This will plot out the two maps\n",
    "# of LA County before and after regionalization.\n",
    "def two_plot_setup():\n",
    "    fig, axes = plt.subplots(nrows=1, ncols=2, figsize=(40,40))\n",
    "    axes[0].set_aspect('equal')\n",
    "    axes[1].set_aspect('equal')\n",
    "    axes[0].axis('off')\n",
    "    axes[1].axis('off')\n",
    "    return fig, axes"
   ]
  },
  {
   "cell_type": "code",
   "execution_count": null,
   "metadata": {},
   "outputs": [],
   "source": [
    "#This cell calls the above function and actually creates the two plots.\n",
    "\n",
    "fig, axes = two_plot_setup()\n",
    "\n",
    "# color tracts based on region ID  #This shows all the \n",
    "rids = copy.copy(results.region_ids)\n",
    "shp_map['rids'] = rids\n",
    "shp_map.plot('rids', categorical=True, alpha=1, colormap='Dark2', axes=axes[0])\n",
    "\n",
    "# disolve the tracts into regions\n",
    "region_groups = shp_map.groupby('rids')\n",
    "region_map = gp.GeoDataFrame(index=region_groups.indices.keys())\n",
    "region_map['rids'] = region_groups.indices.keys()\n",
    "region_map['geometry'] = region_groups.geometry.apply(shapely.ops.unary_union)\n",
    "region_map.plot('rids', categorical=True, alpha=1, colormap='Dark2', axes=axes[1])"
   ]
  },
  {
   "cell_type": "code",
   "execution_count": null,
   "metadata": {},
   "outputs": [],
   "source": []
  },
  {
   "cell_type": "code",
   "execution_count": null,
   "metadata": {},
   "outputs": [],
   "source": []
  },
  {
   "cell_type": "code",
   "execution_count": null,
   "metadata": {},
   "outputs": [],
   "source": []
  }
 ],
 "metadata": {
  "kernelspec": {
   "display_name": "Python 2",
   "language": "python",
   "name": "python2"
  },
  "language_info": {
   "codemirror_mode": {
    "name": "ipython",
    "version": 2
   },
   "file_extension": ".py",
   "mimetype": "text/x-python",
   "name": "python",
   "nbconvert_exporter": "python",
   "pygments_lexer": "ipython2",
   "version": "2.7.16"
  }
 },
 "nbformat": 4,
 "nbformat_minor": 2
}
