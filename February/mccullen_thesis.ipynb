{
 "cells": [
  {
   "cell_type": "code",
   "execution_count": null,
   "metadata": {
    "scrolled": true
   },
   "outputs": [],
   "source": [
    "%matplotlib inline\n",
    "import pysal as ps\n",
    "import numpy as np\n",
    "import pandas as pd\n",
    "import descartes\n",
    "import geopandas as gp\n",
    "import shapely\n",
    "import copy\n",
    "import random\n",
    "import os\n",
    "import sys\n",
    "import acs_regionalization as ACS\n",
    "import matplotlib.pyplot as plt\n",
    "from pylab import rcParams\n",
    "rcParams['figure.figsize'] = 40,40  #set  the   default   map   size  \n",
    "rcParams['patch.linewidth'] = 1  #set default polygon line width"
   ]
  },
  {
   "cell_type": "code",
   "execution_count": null,
   "metadata": {},
   "outputs": [],
   "source": [
    "pwd"
   ]
  },
  {
   "cell_type": "code",
   "execution_count": null,
   "metadata": {
    "scrolled": true
   },
   "outputs": [],
   "source": [
    "# read in the Austin shapefile and plot it\n",
    "shp_map = gp.read_file('mamba.shp')\n",
    "shp_map['constant'] = 1\n",
    "p = shp_map.plot('constant', alpha=0.5, cmap='gist_heat', edgecolor=\"k\")\n",
    "p.axis('off')\n",
    "p.plot()"
   ]
  },
  {
   "cell_type": "code",
   "execution_count": null,
   "metadata": {},
   "outputs": [],
   "source": [
    "# read spatial data into python and run some diagnostics\n",
    "w = ps.rook_from_shapefile('mamba.shp', idVariable='GEOID')\n",
    "print(w.n) # number of census tracts\n",
    "print(w)\n",
    "print type(w.id2i)\n",
    "# # for key in w.id2i:\n",
    "# #     key.encode('ascii')\n",
    "# #     print (key)\n",
    "# w.id2i2 = w.id2i.items    \n",
    "# # w.id2i2 = [key.encode('ascii') for key in w.id2i]\n",
    "# print type(w.id2i)\n",
    "# # print w.id2i\n",
    "\n",
    "# def convert(input):\n",
    "#     if isinstance(input, dict):\n",
    "#         return {convert(key): convert(value) for key, value in input.iteritems()}\n",
    "#     elif isinstance(input, list):\n",
    "#         return [convert(element) for element in input]\n",
    "#     elif isinstance(input, unicode):\n",
    "#         return input.encode('latin-1')\n",
    "#     else:\n",
    "#         return input\n",
    "    \n",
    "# w.id2i = convert(w.id2i)\n",
    "# print id2i2\n",
    "\n",
    "# # for key in w.id2i2:\n",
    "# #     key.encode('latin-1')\n",
    "# #     print(type(key))\n",
    "\n",
    "# def RepresentsInt(i):\n",
    "#     try: \n",
    "#         int(i)\n",
    "#         return True\n",
    "#     except ValueError:\n",
    "#         return False\n",
    "\n",
    "\n",
    "# for i in w.id2i:\n",
    "#     print RepresentsInt(i)\n",
    "\n"
   ]
  },
  {
   "cell_type": "code",
   "execution_count": null,
   "metadata": {
    "scrolled": true
   },
   "outputs": [],
   "source": [
    "# summary of the connectivity structure of the Los Angeles County census tracts\n",
    "w_hist_data = np.array(w.histogram)\n",
    "fig, ax = plt.subplots(figsize=(15,15))\n",
    "ax.bar(w_hist_data[:,0], w_hist_data[:,1], align='center', width=1)\n",
    "ax.set_xlabel('number of neighbors')\n",
    "ax.set_ylabel('number of tracts')"
   ]
  },
  {
   "cell_type": "code",
   "execution_count": null,
   "metadata": {},
   "outputs": [],
   "source": [
    "#test = open('Exclude_Test.csv')\n",
    "#test = test.readline()\n",
    "#test = test.split(',')\n",
    "#print type(test)\n",
    "#test2 = [int(i) for i in test]\n",
    "#print type(test2)\n",
    "\n",
    "#def RepresentsInt(i):\n",
    " #   try: \n",
    " #       int(i)\n",
    " #       return True\n",
    " #   except ValueError:\n",
    " #       return False\n",
    "\n",
    "\n",
    "#for i in test2:\n",
    "  #  print RepresentsInt(i)"
   ]
  },
  {
   "cell_type": "code",
   "execution_count": null,
   "metadata": {},
   "outputs": [],
   "source": [
    "# read in list of census tracts to exclude\n",
    "# using arcmap to view zoning data overlaid on census tracts symbolized by total population estimate per tract\n",
    "exclude = open('Exclude_Test.csv')\n",
    "exclude = exclude.readline()\n",
    "exclude = exclude.replace('g','')\n",
    "exclude = exclude.split(',')\n",
    "print exclude\n",
    "for i in exclude:\n",
    "    i.encode('utf-8')\n",
    "    print(type(i))\n",
    "\n",
    "\n",
    "# # print(type(exclude))\n",
    "# exclude2 = [int(i) for i in exclude]\n",
    "\n",
    "# exclude2 = open('Exclude_Test.csv')\n",
    "# exclude2 = exclude2.readline()\n",
    "# exclude2 = exclude2.split(',')\n",
    "# print type(exclude2)\n",
    "# exclude = [int(i) for i in exclude2]\n",
    "# print type(exclude)\n",
    "\n",
    "# def RepresentsInt(i):\n",
    "#     try: \n",
    "#         int(i)\n",
    "#         return True\n",
    "#     except ValueError:\n",
    "#         return False\n",
    "\n",
    "\n",
    "# for i in exclude:\n",
    "#     print RepresentsInt(i)\n",
    "\n",
    "\n",
    "    "
   ]
  },
  {
   "cell_type": "code",
   "execution_count": null,
   "metadata": {},
   "outputs": [],
   "source": [
    "# read in the ACS estimates and standard errors\n",
    "population = pd.read_csv('ACS_Full_Table_Copy1.csv', index_col=0)\n",
    "pop2 = pd.read_csv('Total_Population.csv', index_col=0)\n",
    "est_perc = pd.read_csv('prop_est_vet_perc.csv', index_col=0)\n",
    "# csv file of estimated total veteran population by census tract.\n",
    "est_vet_pop = pd.read_csv('proportion1.csv', index_col=0)\n",
    "# standard error csv by census tract.\n",
    "stderr_pop = pd.read_csv('std_err_prop.csv', index_col=0)\n",
    "# margin of error calculation \n",
    "# moe_pop = stderr_pop * 1.65  # changed from 1.645 to 1.65 to reduce decimal places in analysis\n",
    "moe_prop = stderr_pop * 1.654  \n",
    "# read the census tract ids into a python object \n",
    "pop_tract_ids = open('tract_ids.csv')\n",
    "# split the csv into a python list object\n",
    "pop_tract_ids = pop_tract_ids.readline().split(',')\n",
    "# calculate the estimate ratio, standard error ratio, and margin of error for each census tract as a python object\n",
    "est_ratio = pd.read_csv('est_ratio5.csv', index_col=0) \n",
    "std_ratio = pd.read_csv('std_err_prop.csv', index_col=0)\n",
    "# print (est_ratio.dtypes)\n",
    "moe_ratio = std_ratio * 1.654\n",
    "\n",
    "# population_ratio.csv is a CSV file with the census tract id and the above ratio names as columns.\n",
    "ratio_names = open('population_ratio.csv') # need to create this file tonight\n",
    "ratio_names = ratio_names.readline().split(',') "
   ]
  },
  {
   "cell_type": "code",
   "execution_count": null,
   "metadata": {
    "scrolled": false
   },
   "outputs": [],
   "source": [
    "# ratio and population data is organized as numerator-denominator pairs\n",
    "print ratio_names\n",
    "print est_ratio.columns  # names of the numerators and denominators\n",
    "print 'the numerator of %s is %s, and the denominator is %s'%(ratio_names[0], population.columns[3], population.columns[6])\n",
    "print 'the numerator of %s is %s, and the denominator is %s'%(ratio_names[1], population.columns[1], population.columns[6])\n",
    "\n",
    "#print (est_ratio.values)\n",
    "#print (est_vet_pop.values)\n",
    "#print (stderr_pop.values)"
   ]
  },
  {
   "cell_type": "code",
   "execution_count": null,
   "metadata": {
    "scrolled": true
   },
   "outputs": [],
   "source": [
    "# THIS CODE BLOCK WILL TAKE AT LEAST 19+ HOURS(SO FAR AND NOT FINISHED) TO RUN IF YOU ARE DOING ALL OF LOS ANGELES COUNTY.\n",
    "\n",
    "# open the shapefile of the census tracts.\n",
    "shp = ps.open('mamba.shp')\n",
    "# using a random seed in python generates a random number and using the same seed value ensures that the same results are generated.\n",
    "# if a random seed is not used, I cant reliably check that the same result comes from each execution of the code, \n",
    "# since the code uses pseudorandom numbers in the ACS Regionalization algorythm.\n",
    "              \n",
    "random.seed(789)     # to ensure we get the same solution each time\n",
    "np.random.seed(789)  # to ensure we get the same solution each time\n",
    "results = ACS.ACS_Regions(w=w,\\\n",
    "                          target_est_prop=est_vet_pop.values,\\\n",
    "                          target_moe_prop=moe_prop.values,\\\n",
    "                          target_est_ratio=est_ratio.values,\\\n",
    "                          target_moe_ratio=moe_ratio.values,\\\n",
    "                          count_est=population.values,\\\n",
    "                          target_th_all=0.05,\\\n",
    "                          exclude=exclude,\\\n",
    "                          compactness=shp,\\\n",
    "                          cv_exclude_prop=0.05)\n",
    "print 'regionalization finished'"
   ]
  },
  {
   "cell_type": "code",
   "execution_count": null,
   "metadata": {},
   "outputs": [],
   "source": [
    "# some basic diagnostics on the solution\n",
    "print 'number of regions:', len(results.regions)\n",
    "print 'total time (seconds):', results.time['total']"
   ]
  },
  {
   "cell_type": "code",
   "execution_count": null,
   "metadata": {},
   "outputs": [],
   "source": [
    "# This is a python function to create the side by side plots of LA County\n",
    "\n",
    "# We'll make a few side-by-side plots. This code wraps the setup into a function. This will plot out the two maps\n",
    "# of LA County before and after regionalization.\n",
    "def two_plot_setup():\n",
    "    fig, axes = plt.subplots(nrows=1, ncols=2, figsize=(40,40))\n",
    "    axes[0].set_aspect('equal')\n",
    "    axes[1].set_aspect('equal')\n",
    "    axes[0].axis('off')\n",
    "    axes[1].axis('off')\n",
    "    return fig, axes"
   ]
  },
  {
   "cell_type": "code",
   "execution_count": null,
   "metadata": {},
   "outputs": [],
   "source": [
    "#This cell calls the above function and actually creates the two plots.\n",
    "\n",
    "fig, axes = two_plot_setup()\n",
    "\n",
    "# color tracts based on region ID  #This shows all the \n",
    "rids = copy.copy(results.region_ids)\n",
    "shp_map['rids'] = rids\n",
    "shp_map.plot('rids', categorical=True, alpha=1, colormap='Dark2', axes=axes[0])\n",
    "\n",
    "# disolve the tracts into regions\n",
    "region_groups = shp_map.groupby('rids')\n",
    "region_map = gp.GeoDataFrame(index=region_groups.indices.keys())\n",
    "region_map['rids'] = region_groups.indices.keys()\n",
    "region_map['geometry'] = region_groups.geometry.apply(shapely.ops.unary_union)\n",
    "region_map.plot('rids', categorical=True, alpha=1, colormap='Dark2', axes=axes[1])"
   ]
  },
  {
   "cell_type": "code",
   "execution_count": null,
   "metadata": {},
   "outputs": [],
   "source": []
  },
  {
   "cell_type": "code",
   "execution_count": null,
   "metadata": {},
   "outputs": [],
   "source": []
  },
  {
   "cell_type": "code",
   "execution_count": null,
   "metadata": {},
   "outputs": [],
   "source": []
  }
 ],
 "metadata": {
  "kernelspec": {
   "display_name": "Python 2",
   "language": "python",
   "name": "python2"
  },
  "language_info": {
   "codemirror_mode": {
    "name": "ipython",
    "version": 2
   },
   "file_extension": ".py",
   "mimetype": "text/x-python",
   "name": "python",
   "nbconvert_exporter": "python",
   "pygments_lexer": "ipython2",
   "version": "2.7.16"
  }
 },
 "nbformat": 4,
 "nbformat_minor": 2
}
