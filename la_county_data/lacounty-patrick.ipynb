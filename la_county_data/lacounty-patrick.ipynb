{
 "cells": [
  {
   "cell_type": "code",
   "execution_count": null,
   "metadata": {},
   "outputs": [],
   "source": [
    "%matplotlib inline\n",
    "import pysal as ps\n",
    "import numpy as np\n",
    "import pandas as pd\n",
    "import descartes\n",
    "import geopandas as gp\n",
    "import shapely\n",
    "import copy\n",
    "import random\n",
    "import os\n",
    "import sys\n",
    "import acs_regionalization as ACS\n",
    "import matplotlib.pyplot as plt\n",
    "from pylab import rcParams\n",
    "rcParams['figure.figsize'] = 30,30\n",
    "rcParams['patch.linewidth'] = 0.5  #set default polygon line width"
   ]
  },
  {
   "cell_type": "code",
   "execution_count": null,
   "metadata": {
    "scrolled": false
   },
   "outputs": [],
   "source": [
    "shp_map = gp.read_file('LA_County.shp')\n",
    "shp_map['constant'] = 1\n",
    "p = shp_map.plot('constant', alpha=0.5, cmap='Reds', edgecolor=\"b\")\n",
    "p.axis('off')\n",
    "p.plot()"
   ]
  },
  {
   "cell_type": "code",
   "execution_count": null,
   "metadata": {
    "scrolled": true
   },
   "outputs": [],
   "source": [
    "w = ps.rook_from_shapefile('LA_County.shp', idVariable='GEOID')\n",
    "print(w.n)"
   ]
  },
  {
   "cell_type": "code",
   "execution_count": null,
   "metadata": {},
   "outputs": [],
   "source": [
    "# summary of the connectivity structure of the Los Angeles County census tracts\n",
    "w_hist_data = np.array(w.histogram)\n",
    "fig, ax = plt.subplots(figsize=(10,10))\n",
    "ax.bar(w_hist_data[:,0], w_hist_data[:,1], align='center', width=1)\n",
    "ax.set_xlabel('number of neighbors')\n",
    "ax.set_ylabel('number of tracts')"
   ]
  },
  {
   "cell_type": "code",
   "execution_count": null,
   "metadata": {},
   "outputs": [],
   "source": [
    "# read in list of census tracts to exclude\n",
    "# using arcmap to view zoning data overlaid on census tracts symbolized by total population estimate per tract\n",
    "# exclude = open('excluded_lacounty.csv')\n",
    "# exclude = exclude.readline()\n",
    "# exclude = exclude.replace('g','')\n",
    "# exclude = exclude.split(',')\n",
    "# print exclude"
   ]
  },
  {
   "cell_type": "code",
   "execution_count": null,
   "metadata": {
    "scrolled": true
   },
   "outputs": [],
   "source": [
    "# read in the ACS estimates and standard errors\n",
    "population = pd.read_csv('ACS_Full_Table.csv', index_col=0)\n",
    "# csv file of estimated total veteran population by census tract.\n",
    "est_vet_pop = pd.read_csv('vet_est_lac2.csv', index_col=0)\n",
    "# standard error csv by census tract.\n",
    "# stderr_pop = pd.read_csv('stdErr_lactracts.csv', index_col=0)\n",
    "# margin of error calculation \n",
    "# moe_pop = stderr_pop * 1.65  # changed from 1.645 to 1.65 to reduce decimal places in analysis\n",
    "moe_pop = pd.read_csv('moe_pop.csv', index_col=0)\n",
    "# read the census tract ids into a python object \n",
    "pop_tract_ids = open('tract_ids.csv')\n",
    "# split the csv into a python list object\n",
    "pop_tract_ids = pop_tract_ids.readline().split(',')\n",
    "# calculate the estimate ratio, standard error ratio, and margin of error for each census tract as a python object\n",
    "est_ratio = pd.read_csv('est_ratio2.csv')\n",
    "# std_ratio = (moe_pop/1.65)\n",
    "# print (est_ratio.dtypes)\n",
    "moe_ratio = moe_pop\n",
    "\n",
    "# population_ratio.csv is a CSV file with the census tract id and the above ratio names as columns.\n",
    "ratio_names = open('population_ratio.csv')\n",
    "ratio_names = ratio_names.readline().split(',')"
   ]
  },
  {
   "cell_type": "code",
   "execution_count": null,
   "metadata": {
    "scrolled": true
   },
   "outputs": [],
   "source": [
    "# depending on what the machine size of the Virtual Machine, the algorthim can take several minutes to complete.\n",
    "# i am currently using a first generation Google Cloud Platform Compute Engine Virtual Machine size n1-standard-4.\n",
    "# this machine has 4 virtual CPU cores and 8gb of RAM.\n",
    "\n",
    "# open the shapefile of the census tracts.\n",
    "shp = ps.open('LA_County.shp')\n",
    "# using a random seed in python generates a random number and using the same seed value ensures that the same results are generated.\n",
    "# if a random seed is not used, I cant reliably check that the same result comes from each execution of the code, \n",
    "# since the code uses pseudorandom numbers in the ACS Regionalization algorythm.\n",
    "              \n",
    "random.seed(745)     # to ensure we get the same solution each time\n",
    "np.random.seed(745)  # to ensure we get the same solution each time\n",
    "results = ACS.ACS_Regions(w=w,\\\n",
    "                          target_est_prop=est_vet_pop.values,\\\n",
    "                          target_moe_prop=moe_pop.values,\\\n",
    "                          target_est_ratio=est_ratio.values,\\\n",
    "                          target_moe_ratio=moe_ratio.values,\\\n",
    "                          count_est=population.values,\\\n",
    "                          target_th_all=0.05,\\\n",
    "                          compactness=shp)\n",
    "print 'regionalization finished'"
   ]
  },
  {
   "cell_type": "code",
   "execution_count": null,
   "metadata": {
    "scrolled": true
   },
   "outputs": [],
   "source": [
    "# ratio and population data is organized as numerator-denominator pairs\n",
    "print ratio_names\n",
    "print est_ratio.columns  # names of the numerators and denominators\n",
    "print '\\nthe numerator of %s is %s, and the denominator is %s'%(ratio_names[0], population.columns[4], population.columns[7])\n",
    "print 'the numerator of %s is %s, and the denominator is %s'%(ratio_names[1], population.columns[4], population.columns[2])\n",
    "\n",
    "print (est_ratio.values)\n",
    "print (est_vet_pop.values)"
   ]
  },
  {
   "cell_type": "code",
   "execution_count": null,
   "metadata": {
    "scrolled": true
   },
   "outputs": [],
   "source": [
    "# some basic diagnostics on the solution\n",
    "print 'number of regions:', len(results.regions)\n",
    "print 'total time (seconds):', results.time['total']"
   ]
  },
  {
   "cell_type": "code",
   "execution_count": null,
   "metadata": {},
   "outputs": [],
   "source": [
    "# This is a python function to create the side by side plots of LA County\n",
    "\n",
    "# We'll make a few side-by-side plots. This code wraps the setup into a function. This will plot out the two maps\n",
    "# of LA County before and after regionalization.\n",
    "def two_plot_setup():\n",
    "    fig, axes = plt.subplots(nrows=1, ncols=2, figsize=(40,40))\n",
    "    axes[0].set_aspect('equal')\n",
    "    axes[1].set_aspect('equal')\n",
    "    axes[0].axis('off')\n",
    "    axes[1].axis('off')\n",
    "    return fig, axes"
   ]
  },
  {
   "cell_type": "code",
   "execution_count": null,
   "metadata": {},
   "outputs": [],
   "source": [
    "#This cell calls the above function and actually creates the two plots.\n",
    "\n",
    "fig, axes = two_plot_setup()\n",
    "\n",
    "# color tracts based on region ID  #This shows all the \n",
    "rids = copy.copy(results.region_ids)\n",
    "shp_map['rids'] = rids\n",
    "shp_map.plot('rids', categorical=True, alpha=1, colormap='Dark2', axes=axes[0])\n",
    "\n",
    "# disolve the tracts into regions\n",
    "region_groups = shp_map.groupby('rids')\n",
    "region_map = gp.GeoDataFrame(index=region_groups.indices.keys())\n",
    "region_map['rids'] = region_groups.indices.keys()\n",
    "region_map['geometry'] = region_groups.geometry.apply(shapely.ops.unary_union)\n",
    "region_map.plot('rids', categorical=True, alpha=1, colormap='Dark2', axes=axes[1])"
   ]
  },
  {
   "cell_type": "code",
   "execution_count": null,
   "metadata": {},
   "outputs": [],
   "source": []
  },
  {
   "cell_type": "code",
   "execution_count": null,
   "metadata": {},
   "outputs": [],
   "source": []
  },
  {
   "cell_type": "code",
   "execution_count": null,
   "metadata": {},
   "outputs": [],
   "source": []
  },
  {
   "cell_type": "code",
   "execution_count": null,
   "metadata": {},
   "outputs": [],
   "source": []
  },
  {
   "cell_type": "code",
   "execution_count": null,
   "metadata": {},
   "outputs": [],
   "source": []
  },
  {
   "cell_type": "code",
   "execution_count": null,
   "metadata": {},
   "outputs": [],
   "source": []
  },
  {
   "cell_type": "code",
   "execution_count": null,
   "metadata": {},
   "outputs": [],
   "source": []
  },
  {
   "cell_type": "code",
   "execution_count": null,
   "metadata": {},
   "outputs": [],
   "source": []
  }
 ],
 "metadata": {
  "kernelspec": {
   "display_name": "Python 2",
   "language": "python",
   "name": "python2"
  },
  "language_info": {
   "codemirror_mode": {
    "name": "ipython",
    "version": 2
   },
   "file_extension": ".py",
   "mimetype": "text/x-python",
   "name": "python",
   "nbconvert_exporter": "python",
   "pygments_lexer": "ipython2",
   "version": "2.7.16"
  }
 },
 "nbformat": 4,
 "nbformat_minor": 2
}
